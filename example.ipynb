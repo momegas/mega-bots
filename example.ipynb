{
 "cells": [
  {
   "attachments": {},
   "cell_type": "markdown",
   "metadata": {},
   "source": [
    "# Examples\n",
    "\n",
    "Below you can find some examples of how to use the 🤖 `Megabots` library.\n"
   ]
  },
  {
   "attachments": {},
   "cell_type": "markdown",
   "metadata": {},
   "source": [
    "### Creating a bot\n",
    "\n",
    "The `bot` object is the main object of the library. It is used to create a bot and to interact with it.\n",
    "\n",
    "The `index` argument specifies the index to use for the bot. It can either be a saved index file (e.g., `index.pkl`) or a directory of documents (e.g., `./index`). In the case of the directory the index will be automatically created. If no index is specified the `bot` will look for `index.pkl` or `./index`."
   ]
  },
  {
   "cell_type": "code",
   "execution_count": 1,
   "metadata": {},
   "outputs": [
    {
     "name": "stderr",
     "output_type": "stream",
     "text": [
      "/Users/momegas/Desktop/qnabot/.venv/lib/python3.10/site-packages/tqdm/auto.py:21: TqdmWarning: IProgress not found. Please update jupyter and ipywidgets. See https://ipywidgets.readthedocs.io/en/stable/user_install.html\n",
      "  from .autonotebook import tqdm as notebook_tqdm\n"
     ]
    },
    {
     "name": "stdout",
     "output_type": "stream",
     "text": [
      "Using model: gpt-3.5-turbo\n",
      "Loading path from pickle file:  ./index.pkl ...\n"
     ]
    },
    {
     "data": {
      "text/plain": [
       "'The first roster of the Avengers included Iron Man, Thor, Hulk, Ant-Man, and the Wasp.\\nSOURCES: examples/files/facts.txt'"
      ]
     },
     "execution_count": 1,
     "metadata": {},
     "output_type": "execute_result"
    }
   ],
   "source": [
    "from megabots import bot\n",
    "\n",
    "qnabot = bot(\"qna-over-docs\", index=\"./index.pkl\", sources=True)\n",
    "\n",
    "qnabot.ask(\"what was the first roster of the avengers?\")\n"
   ]
  },
  {
   "attachments": {},
   "cell_type": "markdown",
   "metadata": {},
   "source": [
    "### Changing the bot's prompt\n",
    "\n",
    "You can change the bot's promnpt to customize it to your needs. In the `qna-over-docs` type of bot you will need to pass 2 variables for the `context` (knwoledge searched from the index) and the `question` (the human question).\n"
   ]
  },
  {
   "cell_type": "code",
   "execution_count": 3,
   "metadata": {},
   "outputs": [
    {
     "name": "stdout",
     "output_type": "stream",
     "text": [
      "input_variables=['context', 'question'] output_parser=None partial_variables={} template='\\nUse the following pieces of context to answer the question at the end. \\nIf you don\\'t know the answer, just say that you don\\'t know, don\\'t try to make up an answer.\\nAnswer in a playfull humorous style.\\nAlways start your answers with \"of course! I know it all.\"\\n\\n{context}\\n\\nQuestion: {question}\\nHelpful humorous answer:' template_format='f-string' validate_template=True\n",
      "Using model: gpt-3.5-turbo\n",
      "Loading path from pickle file:  ./index.pkl ...\n"
     ]
    },
    {
     "data": {
      "text/plain": [
       "'Of course! I know it all. The original Avengers lineup included Iron Man, Thor, Hulk, Ant-Man, and the Wasp. They were like the Beatles of the superhero world, but with less screaming fans and more smashing of villains.'"
      ]
     },
     "execution_count": 3,
     "metadata": {},
     "output_type": "execute_result"
    }
   ],
   "source": [
    "from megabots import bot\n",
    "\n",
    "prompt = \"\"\"\n",
    "Use the following pieces of context to answer the question at the end. \n",
    "If you don't know the answer, just say that you don't know, don't try to make up an answer.\n",
    "Answer in a playfull humorous style.\n",
    "Always start your answers with \"of course! I know it all.\"\n",
    "\n",
    "{context}\n",
    "\n",
    "Question: {question}\n",
    "Helpful humorous answer:\"\"\"\n",
    "\n",
    "qnabot = bot(\"qna-over-docs\", index=\"./index.pkl\", prompt=prompt)\n",
    "\n",
    "qnabot.ask(\"what was the first roster of the avengers?\")\n"
   ]
  },
  {
   "attachments": {},
   "cell_type": "markdown",
   "metadata": {},
   "source": [
    "### Using Megabots with Milvus\n",
    "\n",
    "Megabots `bot` can also use Milvus as a backend for its search engine. You can find an example of how to do it below.\n",
    "\n",
    "In order to run Milvus you need to follow [this guide](https://milvus.io/docs/example_code.md) to download a docker compose file and run it.\n",
    "The command is:\n",
    "\n",
    "```bash\n",
    "wget https://raw.githubusercontent.com/milvus-io/pymilvus/v2.2.7/examples/hello_milvus.py\n",
    "```\n",
    "\n",
    "You can then [install Attu](https://milvus.io/docs/attu_install-docker.md) as a management tool for Milvus\n"
   ]
  },
  {
   "cell_type": "code",
   "execution_count": 3,
   "metadata": {},
   "outputs": [
    {
     "name": "stdout",
     "output_type": "stream",
     "text": [
      "Using model: gpt-3.5-turbo\n"
     ]
    },
    {
     "data": {
      "text/plain": [
       "'The first roster of the Avengers included Iron Man, Thor, Hulk, Ant-Man, and the Wasp.'"
      ]
     },
     "execution_count": 3,
     "metadata": {},
     "output_type": "execute_result"
    }
   ],
   "source": [
    "from megabots import bot\n",
    "\n",
    "# Attach a vectorstore by passing the name of the database. Default port for milvus is 19530 and default host is localhost\n",
    "# Point it to your files directory so that it can index the files and add them to the vectorstore\n",
    "bot = bot(\"qna-over-docs\", index=\"./examples/files/\", vectorstore=\"milvus\")\n",
    "\n",
    "bot.ask(\"what was the first roster of the avengers?\")\n"
   ]
  },
  {
   "attachments": {},
   "cell_type": "markdown",
   "metadata": {},
   "source": [
    "Or use the `vectorstore` factory function for more customisation\n"
   ]
  },
  {
   "cell_type": "code",
   "execution_count": 4,
   "metadata": {},
   "outputs": [
    {
     "name": "stdout",
     "output_type": "stream",
     "text": [
      "Using model: gpt-3.5-turbo\n"
     ]
    }
   ],
   "source": [
    "from megabots import bot, vectorstore\n",
    "\n",
    "milvus = vectorstore(\"milvus\", host=\"localhost\", port=19530)\n",
    "\n",
    "bot = bot(\"qna-over-docs\", index=\"./examples/files/\", vectorstore=milvus)\n"
   ]
  },
  {
   "attachments": {},
   "cell_type": "markdown",
   "metadata": {},
   "source": [
    "### Working with memory\n",
    "\n",
    "You can easily add memory to your `bot` using the `memory` parameter. It accepts a string with the type of the memory to be used. This defaults to some sane dafaults.\n",
    "Should you need more configuration, you can use the `memory` function and pass the type of memory and the configuration you need.\n"
   ]
  },
  {
   "cell_type": "code",
   "execution_count": 5,
   "metadata": {},
   "outputs": [
    {
     "name": "stdout",
     "output_type": "stream",
     "text": [
      "Using model: gpt-3.5-turbo\n",
      "Loading path from pickle file:  ./index.pkl ...\n",
      "Iron Man is a superhero character who is a member of the Avengers. He is known for his high-tech suit of armor and his alter ego, Tony Stark.\n",
      "Yes, Iron Man was part of the original Avengers lineup.\n"
     ]
    }
   ],
   "source": [
    "from megabots import bot\n",
    "\n",
    "qnabot = bot(\"qna-over-docs\", index=\"./index.pkl\", memory=\"conversation-buffer\")\n",
    "\n",
    "print(qnabot.ask(\"who is iron man?\"))\n",
    "print(qnabot.ask(\"was he in the first roster?\"))\n"
   ]
  },
  {
   "attachments": {},
   "cell_type": "markdown",
   "metadata": {},
   "source": [
    "Or using the `memory`factory function"
   ]
  },
  {
   "cell_type": "code",
   "execution_count": 6,
   "metadata": {},
   "outputs": [
    {
     "name": "stdout",
     "output_type": "stream",
     "text": [
      "Using model: gpt-3.5-turbo\n",
      "Loading path from pickle file:  ./index.pkl ...\n",
      "Iron Man is a superhero character who is a member of the Avengers. He is known for his high-tech suit of armor and his alter ego, Tony Stark.\n",
      "Yes, Iron Man was part of the original Avengers lineup.\n"
     ]
    }
   ],
   "source": [
    "from megabots import bot, memory\n",
    "\n",
    "qnabot = bot(\n",
    "    \"qna-over-docs\",\n",
    "    index=\"./index.pkl\",\n",
    "    memory=memory(\"conversation-buffer-window\", k=5),\n",
    ")\n",
    "\n",
    "print(qnabot.ask(\"who is iron man?\"))\n",
    "print(qnabot.ask(\"was he in the first roster?\"))"
   ]
  },
  {
   "attachments": {},
   "cell_type": "markdown",
   "metadata": {},
   "source": [
    "NOTE: For the `qna-over-docs` bot, when using memory and passing your custom prompt, it is important to remember to pass one more variable to your custom prompt to facilitate for chat history. The variable name is `history`.\n"
   ]
  },
  {
   "cell_type": "code",
   "execution_count": 7,
   "metadata": {},
   "outputs": [
    {
     "name": "stdout",
     "output_type": "stream",
     "text": [
      "Using model: gpt-3.5-turbo\n",
      "Loading path from pickle file:  ./index.pkl ...\n",
      "Iron Man is a superhero character who is a member of the Avengers. He is a wealthy businessman named Tony Stark who uses his advanced technology to create a suit of armor that gives him superhuman abilities.\n",
      "Yes, Iron Man was part of the original Avengers lineup.\n"
     ]
    }
   ],
   "source": [
    "from megabots import bot\n",
    "\n",
    "prompt = \"\"\"\n",
    "Use the following pieces of context to answer the question at the end. \n",
    "If you don't know the answer, just say that you don't know, don't try to make up an answer.\n",
    "\n",
    "{context}\n",
    "\n",
    "{history}\n",
    "Human: {question}\n",
    "AI:\"\"\"\n",
    "\n",
    "qnabot = bot(\n",
    "    \"qna-over-docs\",\n",
    "    prompt=prompt,\n",
    "    index=\"./index.pkl\",\n",
    "    memory=\"conversation-buffer\",\n",
    ")\n",
    "\n",
    "print(qnabot.ask(\"who is iron man?\"))\n",
    "print(qnabot.ask(\"was he in the first roster?\"))"
   ]
  }
 ],
 "metadata": {
  "kernelspec": {
   "display_name": ".venv",
   "language": "python",
   "name": "python3"
  },
  "language_info": {
   "codemirror_mode": {
    "name": "ipython",
    "version": 3
   },
   "file_extension": ".py",
   "mimetype": "text/x-python",
   "name": "python",
   "nbconvert_exporter": "python",
   "pygments_lexer": "ipython3",
   "version": "3.10.0"
  },
  "orig_nbformat": 4
 },
 "nbformat": 4,
 "nbformat_minor": 2
}
